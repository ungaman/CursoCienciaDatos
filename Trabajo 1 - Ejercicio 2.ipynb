{
 "cells": [
  {
   "cell_type": "markdown",
   "id": "f6225925",
   "metadata": {},
   "source": [
    "### Ejercicio 2\n",
    "\n",
    "Escribir un programa que reciba un diccionario con los ingresos mensuales de los clientes de una empresa, y devuelva:\n",
    "\n",
    "-  Una serie con el ingreso mínimo\n",
    "-  Una serie con el ingreso máximo \n",
    "-  Una serie con el ingreso medio.\n",
    "\n",
    "#### Desarrollo\n",
    "\n",
    "Se define de forma manual una base de datos de 12 registros, cada uno de ellos correspondiente a un mes del año. Cada registro contiene 3 valores de ingresos generado aleatoriamente entre los valores 500 y 15000."
   ]
  },
  {
   "cell_type": "code",
   "execution_count": 1,
   "id": "b27bd64a",
   "metadata": {},
   "outputs": [],
   "source": [
    "# Definición de entorno\n",
    "from random import seed\n",
    "from random import randint\n",
    "import pandas as pd\n",
    "\n",
    "seed(12345)\n"
   ]
  },
  {
   "cell_type": "code",
   "execution_count": 2,
   "id": "390bd339",
   "metadata": {},
   "outputs": [
    {
     "name": "stdout",
     "output_type": "stream",
     "text": [
      "Base de Datos generada:\n",
      "               Cliente   Ing1   Ing2   Ing3\n",
      "Mes                                        \n",
      "Enero            Julio   7325  12504    666\n",
      "Febrero          Suyen  13937  14020  13653\n",
      "Marzo           Carlos   5392  14510   6536\n",
      "Abril            Sonia   3672   4927   9773\n",
      "Mayo             Oscar   7647   3149   6612\n",
      "Junio       Alessandra   2535  14822   7593\n",
      "Julio            Julio   4777   9709  10776\n",
      "Agosto           Suyen   3356  10523   9563\n",
      "Septiembre      Carlos   3560   6314  12593\n",
      "Octubre          Sonia  12507   1995   9200\n",
      "Noviembre        Oscar  12548   7252  10085\n",
      "Diciembre   Alessandra   8756   3229   2927\n"
     ]
    }
   ],
   "source": [
    "# Definición de Estructura de datos\n",
    "ListaClientes = []\n",
    "\n",
    "# Generamos Lista con Diccionarios. \n",
    "# Por simplicidad del ejercicio, se definirá manualmente la identificación de los clientes, dejando únicamente\n",
    "# de forma aleatoria el valor del ingreso mensual respectivo. Se crearán 12 registros, cada uno correspondiente\n",
    "# a un mes.\n",
    "\n",
    "ListaClientes.append({'Mes': 'Enero', 'Cliente': 'Julio', 'Ing1': randint(500,15000), 'Ing2': randint(500,15000), 'Ing3': randint(500,15000)})\n",
    "ListaClientes.append({'Mes': 'Febrero', 'Cliente': 'Suyen', 'Ing1': randint(500,15000), 'Ing2': randint(500,15000), 'Ing3': randint(500,15000)})\n",
    "ListaClientes.append({'Mes': 'Marzo', 'Cliente': 'Carlos', 'Ing1': randint(500,15000), 'Ing2': randint(500,15000), 'Ing3': randint(500,15000)})\n",
    "ListaClientes.append({'Mes': 'Abril', 'Cliente': 'Sonia', 'Ing1': randint(500,15000), 'Ing2': randint(500,15000), 'Ing3': randint(500,15000)})\n",
    "ListaClientes.append({'Mes': 'Mayo', 'Cliente': 'Oscar', 'Ing1': randint(500,15000), 'Ing2': randint(500,15000), 'Ing3': randint(500,15000)})\n",
    "ListaClientes.append({'Mes': 'Junio', 'Cliente': 'Alessandra', 'Ing1': randint(500,15000), 'Ing2': randint(500,15000), 'Ing3': randint(500,15000)})\n",
    "ListaClientes.append({'Mes': 'Julio', 'Cliente': 'Julio', 'Ing1': randint(500,15000), 'Ing2': randint(500,15000), 'Ing3': randint(500,15000)})\n",
    "ListaClientes.append({'Mes': 'Agosto', 'Cliente': 'Suyen', 'Ing1': randint(500,15000), 'Ing2': randint(500,15000), 'Ing3': randint(500,15000)})\n",
    "ListaClientes.append({'Mes': 'Septiembre', 'Cliente': 'Carlos', 'Ing1': randint(500,15000), 'Ing2': randint(500,15000), 'Ing3': randint(500,15000)})\n",
    "ListaClientes.append({'Mes': 'Octubre', 'Cliente': 'Sonia', 'Ing1': randint(500,15000), 'Ing2': randint(500,15000), 'Ing3': randint(500,15000)})\n",
    "ListaClientes.append({'Mes': 'Noviembre', 'Cliente': 'Oscar', 'Ing1': randint(500,15000), 'Ing2': randint(500,15000), 'Ing3': randint(500,15000)})\n",
    "ListaClientes.append({'Mes': 'Diciembre', 'Cliente': 'Alessandra', 'Ing1': randint(500,15000), 'Ing2': randint(500,15000), 'Ing3': randint(500,15000)})\n",
    "\n",
    "# Convertimos la lista a Dataframe\n",
    "dfClientes = pd.DataFrame.from_records(ListaClientes)\n",
    "dfClientes = dfClientes.set_index('Mes') # Se escoge la columna mes como Indice\n",
    "\n",
    "print(\"Base de Datos generada:\")\n",
    "print(dfClientes)\n"
   ]
  },
  {
   "cell_type": "markdown",
   "id": "8f01aa9b",
   "metadata": {},
   "source": [
    "##### Resultados:\n",
    "\n",
    "a) Serie de Ingresos Mínimos:\n",
    "\n"
   ]
  },
  {
   "cell_type": "code",
   "execution_count": 3,
   "id": "78fa7852",
   "metadata": {},
   "outputs": [
    {
     "name": "stdout",
     "output_type": "stream",
     "text": [
      "Mes\n",
      "Enero           666\n",
      "Febrero       13653\n",
      "Marzo          5392\n",
      "Abril          3672\n",
      "Mayo           3149\n",
      "Junio          2535\n",
      "Julio          4777\n",
      "Agosto         3356\n",
      "Septiembre     3560\n",
      "Octubre        1995\n",
      "Noviembre      7252\n",
      "Diciembre      2927\n",
      "dtype: int64\n"
     ]
    }
   ],
   "source": [
    "serieValoresMinimos = dfClientes.min(numeric_only= True, axis=1)\n",
    "print(serieValoresMinimos)"
   ]
  },
  {
   "cell_type": "markdown",
   "id": "2a339057",
   "metadata": {},
   "source": [
    "b) Serie de Ingresos Máximos:"
   ]
  },
  {
   "cell_type": "code",
   "execution_count": 4,
   "id": "b3dc39e4",
   "metadata": {},
   "outputs": [
    {
     "name": "stdout",
     "output_type": "stream",
     "text": [
      "Mes\n",
      "Enero         12504\n",
      "Febrero       14020\n",
      "Marzo         14510\n",
      "Abril          9773\n",
      "Mayo           7647\n",
      "Junio         14822\n",
      "Julio         10776\n",
      "Agosto        10523\n",
      "Septiembre    12593\n",
      "Octubre       12507\n",
      "Noviembre     12548\n",
      "Diciembre      8756\n",
      "dtype: int64\n"
     ]
    }
   ],
   "source": [
    "serieValoresMaximos = dfClientes.max(numeric_only = True, axis = 1)\n",
    "print(serieValoresMaximos)"
   ]
  },
  {
   "cell_type": "markdown",
   "id": "d102a8a5",
   "metadata": {},
   "source": [
    "c) Serie de Promedio por Mes:"
   ]
  },
  {
   "cell_type": "code",
   "execution_count": 5,
   "id": "6874dfd5",
   "metadata": {},
   "outputs": [
    {
     "name": "stdout",
     "output_type": "stream",
     "text": [
      "Mes\n",
      "Enero          9914.5\n",
      "Febrero       13978.5\n",
      "Marzo          9951.0\n",
      "Abril          4299.5\n",
      "Mayo           5398.0\n",
      "Junio          8678.5\n",
      "Julio          7243.0\n",
      "Agosto         6939.5\n",
      "Septiembre     4937.0\n",
      "Octubre        7251.0\n",
      "Noviembre      9900.0\n",
      "Diciembre      5992.5\n",
      "Name: Media, dtype: float64\n"
     ]
    }
   ],
   "source": [
    "dfClientes['Media'] = dfClientes.iloc[:, 1:3].mean(axis=1)\n",
    "print(dfClientes['Media'])\n"
   ]
  }
 ],
 "metadata": {
  "kernelspec": {
   "display_name": "Python 3 (ipykernel)",
   "language": "python",
   "name": "python3"
  },
  "language_info": {
   "codemirror_mode": {
    "name": "ipython",
    "version": 3
   },
   "file_extension": ".py",
   "mimetype": "text/x-python",
   "name": "python",
   "nbconvert_exporter": "python",
   "pygments_lexer": "ipython3",
   "version": "3.8.8"
  }
 },
 "nbformat": 4,
 "nbformat_minor": 5
}
