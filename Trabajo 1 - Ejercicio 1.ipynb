{
 "cells": [
  {
   "cell_type": "markdown",
   "id": "65398371",
   "metadata": {},
   "source": [
    "### Ejercicio 1\n",
    "\n",
    "Escribir un programa que pregunte al usuario por las ventas de los últimos 5 días, y muestre por pantalla una serie con los datos de las ventas por producto: Nro de unidades y precio unitario, indexada por los días, antes y después de aplicarles un descuento del 5%.\n"
   ]
  },
  {
   "cell_type": "code",
   "execution_count": 1,
   "id": "d06037e7",
   "metadata": {},
   "outputs": [],
   "source": [
    "# Importanción de librerias\n",
    "from datetime import date, timedelta\n",
    "import pandas as pd\n",
    "\n",
    "# Variables\n",
    "ListaVentas = []\n",
    "VentaBruta = []\n",
    "VentaDescuento = []"
   ]
  },
  {
   "cell_type": "markdown",
   "id": "bdf06eaa",
   "metadata": {},
   "source": [
    "#### Datos de entrada:\n",
    "\n",
    "Favor digitar los valores de los articulos, sus precios unitarios, y la cantidad de unidades vendidas en los últimos 5 días calendario:\n"
   ]
  },
  {
   "cell_type": "code",
   "execution_count": 2,
   "id": "99646bdc",
   "metadata": {},
   "outputs": [
    {
     "name": "stdout",
     "output_type": "stream",
     "text": [
      "Fecha de Compra:  15/04/2022\n",
      "Digite la descripción del artículo: Mesas para computadoras\n",
      "Digite el precio unitario: 700\n",
      "Digite la cantidad de unidades vendidas: 4\n",
      "---\n",
      "Fecha de Compra:  16/04/2022\n",
      "Digite la descripción del artículo: Monitores pantalla curva\n",
      "Digite el precio unitario: 6000\n",
      "Digite la cantidad de unidades vendidas: 3\n",
      "---\n",
      "Fecha de Compra:  17/04/2022\n",
      "Digite la descripción del artículo: Silla Gamer\n",
      "Digite el precio unitario: 320\n",
      "Digite la cantidad de unidades vendidas: 7\n",
      "---\n",
      "Fecha de Compra:  18/04/2022\n",
      "Digite la descripción del artículo: Parlantes Surround System\n",
      "Digite el precio unitario: 450\n",
      "Digite la cantidad de unidades vendidas: 2\n",
      "---\n",
      "Fecha de Compra:  19/04/2022\n",
      "Digite la descripción del artículo: Webcams 4k\n",
      "Digite el precio unitario: 250\n",
      "Digite la cantidad de unidades vendidas: 10\n",
      "---\n"
     ]
    }
   ],
   "source": [
    "# Se emplea un ciclo For descendente para el control de la fecha de ingreso\n",
    "for i in reversed(range(0,5,1)):\n",
    "    Fecha = date.today() - timedelta(days=i)\n",
    "    print(\"Fecha de Compra: \", Fecha.strftime(\"%d/%m/%Y\"))\n",
    "    articulo = input(\"Digite la descripción del artículo: \")\n",
    "    punitario = float(input(\"Digite el precio unitario: \"))\n",
    "    cantidad = int(input(\"Digite la cantidad de unidades vendidas: \"))\n",
    "    print(\"---\")\n",
    "    \n",
    "    # Se agrega la información a la Lista:\n",
    "    ListaVentas.append([Fecha.strftime(\"%d/%m/%Y\"), articulo, punitario, cantidad])\n",
    "    # Se calcula la venta bruta\n",
    "    VentaBruta.append(punitario * cantidad)\n",
    "    # Se calcula la venta con descuento\n",
    "    VentaDescuento.append(punitario * cantidad * 0.95)\n",
    "    \n",
    "# Preparamos los dataframes correspondientes\n",
    "\n",
    "df_ventas = pd.DataFrame(ListaVentas, columns=[\"Fecha\", \"Descripción\", \"P.U.\", \"Unidades\"])\n",
    "df_ventas = df_ventas.set_index(\"Fecha\") # Definimos el indice del dataframe\n"
   ]
  },
  {
   "cell_type": "markdown",
   "id": "4e0093f8",
   "metadata": {},
   "source": [
    "#### Resultados de la Operación\n",
    "\n",
    "##### Ventas brutas por día"
   ]
  },
  {
   "cell_type": "code",
   "execution_count": 3,
   "id": "aaaf4230",
   "metadata": {},
   "outputs": [
    {
     "name": "stdout",
     "output_type": "stream",
     "text": [
      "Fecha\n",
      "15/04/2022     2800.0\n",
      "16/04/2022    18000.0\n",
      "17/04/2022     2240.0\n",
      "18/04/2022      900.0\n",
      "19/04/2022     2500.0\n",
      "Name: Venta Bruta, dtype: float64\n"
     ]
    }
   ],
   "source": [
    "df_ventas[\"Venta Bruta\"] = VentaBruta # Agregamos la columna con el valor de venta bruta: P. Unitario * Unidades vendidas\n",
    "print(df_ventas[\"Venta Bruta\"])\n"
   ]
  },
  {
   "cell_type": "markdown",
   "id": "3290a333",
   "metadata": {},
   "source": [
    "##### Ventas con descuento por día:\n"
   ]
  },
  {
   "cell_type": "code",
   "execution_count": 4,
   "id": "7fc116c5",
   "metadata": {},
   "outputs": [
    {
     "name": "stdout",
     "output_type": "stream",
     "text": [
      "Fecha\n",
      "15/04/2022     2660.0\n",
      "16/04/2022    17100.0\n",
      "17/04/2022     2128.0\n",
      "18/04/2022      855.0\n",
      "19/04/2022     2375.0\n",
      "Name: Descuento 5%, dtype: float64\n"
     ]
    }
   ],
   "source": [
    "df_ventas[\"Descuento 5%\"] = VentaDescuento # Agregamos la columna del descuento del 5%\n",
    "print(df_ventas[\"Descuento 5%\"])"
   ]
  },
  {
   "cell_type": "code",
   "execution_count": 5,
   "id": "640d1fcf",
   "metadata": {},
   "outputs": [
    {
     "name": "stdout",
     "output_type": "stream",
     "text": [
      "                          Descripción    P.U.  Unidades  Venta Bruta  \\\n",
      "Fecha                                                                  \n",
      "15/04/2022    Mesas para computadoras   700.0         4       2800.0   \n",
      "16/04/2022   Monitores pantalla curva  6000.0         3      18000.0   \n",
      "17/04/2022                Silla Gamer   320.0         7       2240.0   \n",
      "18/04/2022  Parlantes Surround System   450.0         2        900.0   \n",
      "19/04/2022                 Webcams 4k   250.0        10       2500.0   \n",
      "\n",
      "            Descuento 5%  \n",
      "Fecha                     \n",
      "15/04/2022        2660.0  \n",
      "16/04/2022       17100.0  \n",
      "17/04/2022        2128.0  \n",
      "18/04/2022         855.0  \n",
      "19/04/2022        2375.0  \n"
     ]
    }
   ],
   "source": [
    "print(df_ventas)"
   ]
  }
 ],
 "metadata": {
  "kernelspec": {
   "display_name": "Python 3 (ipykernel)",
   "language": "python",
   "name": "python3"
  },
  "language_info": {
   "codemirror_mode": {
    "name": "ipython",
    "version": 3
   },
   "file_extension": ".py",
   "mimetype": "text/x-python",
   "name": "python",
   "nbconvert_exporter": "python",
   "pygments_lexer": "ipython3",
   "version": "3.8.8"
  }
 },
 "nbformat": 4,
 "nbformat_minor": 5
}
