{
 "cells": [
  {
   "cell_type": "markdown",
   "id": "97e1c618",
   "metadata": {},
   "source": [
    "### Ejercicio 3\n",
    "\n",
    "Escribir programa que genere y muestre por pantalla un DataFrame con los datos de la tabla siguiente:\n",
    "\n",
    "|Mes\t|Ventas|Gastos|\n",
    "|:-----:|:----:|:----:|\n",
    "|Enero\t|30500 |22000 |\n",
    "|Febrero|35600 |23450 |\n",
    "|Marzo\t|28300 |18100 |\n",
    "|Abril\t|33900 |35700 |\n",
    "|Marzo\t|42500 |32450 |\n",
    "\n",
    "A continuación, generar nuevas columna:\n",
    "1.\tColumna 1 =  Gasto/Ventas*100.\n",
    "2.\tColumna 2 =  Si Ventas>= 30000, imprimir “Meta Superada”, caso contrario imprimir “Meta no Superada”.\n",
    "3.\tColumna 3 =  Si Gasto>Ventas, calcular el sobre gasto.\n",
    "4.\tObtener el total de las ventas de los últimos 3 meses\n",
    "5.\tObtener el total de gastos de febrero a abril\n"
   ]
  },
  {
   "cell_type": "code",
   "execution_count": 1,
   "id": "af650439",
   "metadata": {},
   "outputs": [
    {
     "name": "stdout",
     "output_type": "stream",
     "text": [
      "         Ventas  Gastos\n",
      "Mes                    \n",
      "Enero     30500   22000\n",
      "Febrero   35600   22450\n",
      "Marzo     70800   50550\n",
      "Abril     33900   35700\n"
     ]
    }
   ],
   "source": [
    "# Definición de entorno y variables\n",
    "import pandas as pd\n",
    "\n",
    "ListaDiccionario = []\n",
    "\n",
    "ListaDiccionario.append({'Mes': 'Enero', 'Ventas': 30500, 'Gastos': 22000})\n",
    "ListaDiccionario.append({'Mes': 'Febrero', 'Ventas': 35600, 'Gastos': 22450})\n",
    "\n",
    "# Para el mes de Marzo, al no haber algún campo que identifique si las ventas y gastos corresponden a rubros distintos,\n",
    "# podemos asumir que fueron 2 operaciones similares realizadas en el mes, por lo que de una vez las sumamos.\n",
    "# Para efectos de comprensión, muestro la operación en el diccionario\n",
    "ListaDiccionario.append({'Mes': 'Marzo', 'Ventas': 28300+42500, 'Gastos': 18100+32450})\n",
    "ListaDiccionario.append({'Mes': 'Abril', 'Ventas': 33900, 'Gastos': 35700})\n",
    "\n",
    "\n",
    "# Convertimos la lista a Dataframe\n",
    "dfOperaciones = pd.DataFrame.from_records(ListaDiccionario)\n",
    "dfOperaciones = dfOperaciones.set_index('Mes') # Se escoge la columna mes como Indice\n",
    "\n",
    "print(dfOperaciones)\n"
   ]
  },
  {
   "cell_type": "markdown",
   "id": "f2b1a58d",
   "metadata": {},
   "source": [
    "##### Paso 1\n",
    "Columna 1 =  Gasto/Ventas*100.\n"
   ]
  },
  {
   "cell_type": "code",
   "execution_count": 2,
   "id": "b3d11cc9",
   "metadata": {},
   "outputs": [
    {
     "name": "stdout",
     "output_type": "stream",
     "text": [
      "         Ventas  Gastos      Margen\n",
      "Mes                                \n",
      "Enero     30500   22000   72.131148\n",
      "Febrero   35600   22450   63.061798\n",
      "Marzo     70800   50550   71.398305\n",
      "Abril     33900   35700  105.309735\n"
     ]
    }
   ],
   "source": [
    "dfOperaciones['Margen'] = dfOperaciones['Gastos']/dfOperaciones['Ventas']*100\n",
    "print(dfOperaciones)"
   ]
  },
  {
   "cell_type": "markdown",
   "id": "282bc77c",
   "metadata": {},
   "source": [
    "##### Paso 2\n",
    "Columna 2 =  Si Ventas>= 30000, imprimir “Meta Superada”, caso contrario imprimir “Meta no Superada”."
   ]
  },
  {
   "cell_type": "code",
   "execution_count": 3,
   "id": "10d4922e",
   "metadata": {},
   "outputs": [
    {
     "name": "stdout",
     "output_type": "stream",
     "text": [
      "         Ventas  Gastos      Margen           Meta\n",
      "Mes                                               \n",
      "Enero     30500   22000   72.131148  Meta Superada\n",
      "Febrero   35600   22450   63.061798  Meta Superada\n",
      "Marzo     70800   50550   71.398305  Meta Superada\n",
      "Abril     33900   35700  105.309735  Meta Superada\n"
     ]
    }
   ],
   "source": [
    "dfOperaciones['Meta'] = dfOperaciones['Ventas'].apply(lambda x: 'Meta Superada' if x >= 30000 else 'Meta no superada')\n",
    "print(dfOperaciones)"
   ]
  },
  {
   "cell_type": "markdown",
   "id": "c606bfc7",
   "metadata": {},
   "source": [
    "##### Paso 3\n",
    "Columna 3 =  Si Gasto>Ventas, calcular el sobre gasto."
   ]
  },
  {
   "cell_type": "code",
   "execution_count": 4,
   "id": "30b7a4d7",
   "metadata": {},
   "outputs": [
    {
     "name": "stdout",
     "output_type": "stream",
     "text": [
      "         Ventas  Gastos      Margen           Meta  SobreGastos\n",
      "Mes                                                            \n",
      "Enero     30500   22000   72.131148  Meta Superada            0\n",
      "Febrero   35600   22450   63.061798  Meta Superada            0\n",
      "Marzo     70800   50550   71.398305  Meta Superada            0\n",
      "Abril     33900   35700  105.309735  Meta Superada         1800\n"
     ]
    }
   ],
   "source": [
    "# Creamos la columna \"SobreGastos\" con la diferencia entre Gastos y Ventas\n",
    "dfOperaciones['SobreGastos'] = dfOperaciones['Gastos']-dfOperaciones['Ventas']\n",
    "# Reemplazamos con 0, los valores de \"Sobregastos\" que sean negativos\n",
    "dfOperaciones.loc[dfOperaciones['SobreGastos'] < 0, 'SobreGastos'] = 0\n",
    "\n",
    "print(dfOperaciones)"
   ]
  },
  {
   "cell_type": "markdown",
   "id": "ac584783",
   "metadata": {},
   "source": [
    "##### Paso 4\n",
    "Obtener el total de las ventas de los últimos 3 meses"
   ]
  },
  {
   "cell_type": "code",
   "execution_count": 5,
   "id": "134750ba",
   "metadata": {
    "scrolled": true
   },
   "outputs": [
    {
     "name": "stdout",
     "output_type": "stream",
     "text": [
      "Total ventas de Febrero a Abril:  140300\n"
     ]
    }
   ],
   "source": [
    "dfVentas3Meses = dfOperaciones.iloc[1:4,0].sum()\n",
    "print( 'Total ventas de Febrero a Abril: ', dfVentas3Meses)"
   ]
  },
  {
   "cell_type": "markdown",
   "id": "f90b6032",
   "metadata": {},
   "source": [
    "##### Paso 5\n",
    "Obtener el total de gastos de febrero a abril"
   ]
  },
  {
   "cell_type": "code",
   "execution_count": 6,
   "id": "f671ecd1",
   "metadata": {},
   "outputs": [
    {
     "name": "stdout",
     "output_type": "stream",
     "text": [
      "Total gastos de Febrero a Abril:  108700\n"
     ]
    }
   ],
   "source": [
    "dfGastos3Meses = dfOperaciones.iloc[1:4,1].sum()\n",
    "print( 'Total gastos de Febrero a Abril: ', dfGastos3Meses)"
   ]
  }
 ],
 "metadata": {
  "kernelspec": {
   "display_name": "Python 3 (ipykernel)",
   "language": "python",
   "name": "python3"
  },
  "language_info": {
   "codemirror_mode": {
    "name": "ipython",
    "version": 3
   },
   "file_extension": ".py",
   "mimetype": "text/x-python",
   "name": "python",
   "nbconvert_exporter": "python",
   "pygments_lexer": "ipython3",
   "version": "3.8.8"
  }
 },
 "nbformat": 4,
 "nbformat_minor": 5
}
